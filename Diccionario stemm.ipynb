{
 "cells": [
  {
   "cell_type": "code",
   "execution_count": 1,
   "metadata": {
    "executionInfo": {
     "elapsed": 1468,
     "status": "ok",
     "timestamp": 1606268773133,
     "user": {
      "displayName": "Daniela Andaluz Ramírez",
      "photoUrl": "https://lh3.googleusercontent.com/a-/AOh14GixEzmkZusiSmnpH0LGw2oiY_ZrTfdxmD-tpLzK8g=s64",
      "userId": "11950908436921581175"
     },
     "user_tz": 360
    },
    "id": "-PBvXaTI8Tpg"
   },
   "outputs": [],
   "source": [
    "import glob\n",
    "import re\n",
    "import os\n",
    "import docx2txt\n",
    "import pandas as pd\n",
    "import numpy as np\n",
    "import glob\n",
    "import itertools\n",
    "from nltk.tokenize import word_tokenize\n",
    "from nltk.stem import SnowballStemmer\n",
    "from sklearn.feature_extraction.text import TfidfVectorizer"
   ]
  },
  {
   "cell_type": "code",
   "execution_count": 2,
   "metadata": {
    "executionInfo": {
     "elapsed": 1462,
     "status": "ok",
     "timestamp": 1606268773136,
     "user": {
      "displayName": "Daniela Andaluz Ramírez",
      "photoUrl": "https://lh3.googleusercontent.com/a-/AOh14GixEzmkZusiSmnpH0LGw2oiY_ZrTfdxmD-tpLzK8g=s64",
      "userId": "11950908436921581175"
     },
     "user_tz": 360
    },
    "id": "Uyrd3fNJ8Tph"
   },
   "outputs": [],
   "source": [
    "#Definimos directorio\n",
    "os.chdir('C:/Users/daniela.andaluz/Downloads/Plantillas')\n",
    "#Leemos lista de stopwords\n",
    "stopwordlist=list(pd.read_csv('C:/Users/daniela.andaluz/Downloads/Plantillas/list.txt', sep=\",\", header=None,encoding='latin-1')[0])"
   ]
  },
  {
   "cell_type": "code",
   "execution_count": 3,
   "metadata": {
    "executionInfo": {
     "elapsed": 2419,
     "status": "ok",
     "timestamp": 1606268774099,
     "user": {
      "displayName": "Daniela Andaluz Ramírez",
      "photoUrl": "https://lh3.googleusercontent.com/a-/AOh14GixEzmkZusiSmnpH0LGw2oiY_ZrTfdxmD-tpLzK8g=s64",
      "userId": "11950908436921581175"
     },
     "user_tz": 360
    },
    "id": "wwxEOVhE8Tph"
   },
   "outputs": [],
   "source": [
    "#Leemos y limpiamos archivos word y excel\n",
    "a=\"Problematización reflexiva\"\n",
    "b=\"Información de la secuencia\"\n",
    "\n",
    "DATA_word=[]\n",
    "for file in glob.glob('*.docx'):\n",
    "    extracto = docx2txt.process(file)\n",
    "    extracto=re.sub('[’:°;,—.\"”“·/!?¿@–#$()%¡=&-><]', ' ', re.sub(r'[0-9]+', ' ', re.sub('\\n', ' ', extracto[extracto.find(a)+26:extracto.find(b)].lower() )))\n",
    "    DATA_word.append(extracto)\n",
    "    \n",
    "DATA_csv=[]\n",
    "for y in glob.glob('*.csv'):\n",
    "    datos =re.sub('[’:;,.\"”“/!?¿@–#$—()%¡=&-><]', '', re.sub(r'[0-9]+', ' ', re.sub('\\n', ' ', pd.read_csv(y).iloc[5,0].lower())))\n",
    "    DATA_csv.append(datos)\n",
    "#Juntamos\n",
    "DATA=DATA_word+DATA_csv"
   ]
  },
  {
   "cell_type": "code",
   "execution_count": 4,
   "metadata": {
    "executionInfo": {
     "elapsed": 2414,
     "status": "ok",
     "timestamp": 1606268774101,
     "user": {
      "displayName": "Daniela Andaluz Ramírez",
      "photoUrl": "https://lh3.googleusercontent.com/a-/AOh14GixEzmkZusiSmnpH0LGw2oiY_ZrTfdxmD-tpLzK8g=s64",
      "userId": "11950908436921581175"
     },
     "user_tz": 360
    },
    "id": "SAD5aOs58Tph"
   },
   "outputs": [],
   "source": [
    "#Tokenizamos\n",
    "DATA_TOK=[]\n",
    "for x in DATA:\n",
    "    token=word_tokenize(x,\"spanish\")\n",
    "    DATA_TOK.append(token)\n",
    "    \n",
    "#Quitamos stopwords\n",
    "DATA_TOK_STOP=[]\n",
    "for y in DATA_TOK:\n",
    "    stop = [word for word in y if not word in stopwordlist]\n",
    "    DATA_TOK_STOP.append(stop)\n"
   ]
  },
  {
   "cell_type": "code",
   "execution_count": 5,
   "metadata": {
    "executionInfo": {
     "elapsed": 2403,
     "status": "ok",
     "timestamp": 1606268774102,
     "user": {
      "displayName": "Daniela Andaluz Ramírez",
      "photoUrl": "https://lh3.googleusercontent.com/a-/AOh14GixEzmkZusiSmnpH0LGw2oiY_ZrTfdxmD-tpLzK8g=s64",
      "userId": "11950908436921581175"
     },
     "user_tz": 360
    },
    "id": "rWgNdIxw8Tph"
   },
   "outputs": [],
   "source": [
    "#Unimos todos los tokens en una sola lista sin repeticiones\n",
    "tokens=list(set((itertools.chain.from_iterable(DATA_TOK_STOP))))"
   ]
  },
  {
   "cell_type": "code",
   "execution_count": 6,
   "metadata": {
    "executionInfo": {
     "elapsed": 2397,
     "status": "ok",
     "timestamp": 1606268774103,
     "user": {
      "displayName": "Daniela Andaluz Ramírez",
      "photoUrl": "https://lh3.googleusercontent.com/a-/AOh14GixEzmkZusiSmnpH0LGw2oiY_ZrTfdxmD-tpLzK8g=s64",
      "userId": "11950908436921581175"
     },
     "user_tz": 360
    },
    "id": "pvLA1OOC8Tpi"
   },
   "outputs": [],
   "source": [
    "#Derivamos cada elemento de la lista de tokens únicos\n",
    "stemmer = SnowballStemmer('spanish')\n",
    "stemmed_spanish = [stemmer.stem(item) for item in tokens]\n"
   ]
  },
  {
   "cell_type": "code",
   "execution_count": 7,
   "metadata": {
    "executionInfo": {
     "elapsed": 2391,
     "status": "ok",
     "timestamp": 1606268774104,
     "user": {
      "displayName": "Daniela Andaluz Ramírez",
      "photoUrl": "https://lh3.googleusercontent.com/a-/AOh14GixEzmkZusiSmnpH0LGw2oiY_ZrTfdxmD-tpLzK8g=s64",
      "userId": "11950908436921581175"
     },
     "user_tz": 360
    },
    "id": "g3FQaFqk8Tpi"
   },
   "outputs": [],
   "source": [
    "#Hacemos un data frame con los tokens y su derivacion\n",
    "dataf_aux= pd.DataFrame({'keys': tokens,'values': stemmed_spanish})\n",
    "unique_values=dataf_aux['values'].unique()"
   ]
  },
  {
   "cell_type": "code",
   "execution_count": 8,
   "metadata": {
    "executionInfo": {
     "elapsed": 2747,
     "status": "ok",
     "timestamp": 1606268774465,
     "user": {
      "displayName": "Daniela Andaluz Ramírez",
      "photoUrl": "https://lh3.googleusercontent.com/a-/AOh14GixEzmkZusiSmnpH0LGw2oiY_ZrTfdxmD-tpLzK8g=s64",
      "userId": "11950908436921581175"
     },
     "user_tz": 360
    },
    "id": "-BR5pakH8Tpi"
   },
   "outputs": [],
   "source": [
    "datos_aux=[]\n",
    "for x in unique_values:\n",
    "    datos_aux.append(\",\".join(dataf_aux[dataf_aux.values==x]['keys']))\n",
    "    "
   ]
  },
  {
   "cell_type": "code",
   "execution_count": 9,
   "metadata": {
    "executionInfo": {
     "elapsed": 2737,
     "status": "ok",
     "timestamp": 1606268774468,
     "user": {
      "displayName": "Daniela Andaluz Ramírez",
      "photoUrl": "https://lh3.googleusercontent.com/a-/AOh14GixEzmkZusiSmnpH0LGw2oiY_ZrTfdxmD-tpLzK8g=s64",
      "userId": "11950908436921581175"
     },
     "user_tz": 360
    },
    "id": "SdVTztXO8Tpk"
   },
   "outputs": [],
   "source": [
    "diccionario=pd.DataFrame({'keys': unique_values,'values': datos_aux})\n",
    "\n",
    "#dict(zip(unique_values, datos_aux))"
   ]
  },
  {
   "cell_type": "code",
   "execution_count": 10,
   "metadata": {},
   "outputs": [],
   "source": [
    "diccionario.to_csv('C:/Users/daniela.andaluz/Downloads/diccionario.csv')"
   ]
  }
 ],
 "metadata": {
  "colab": {
   "name": "TF-IDF.ipynb",
   "provenance": []
  },
  "kernelspec": {
   "display_name": "Python 3",
   "language": "python",
   "name": "python3"
  },
  "language_info": {
   "codemirror_mode": {
    "name": "ipython",
    "version": 3
   },
   "file_extension": ".py",
   "mimetype": "text/x-python",
   "name": "python",
   "nbconvert_exporter": "python",
   "pygments_lexer": "ipython3",
   "version": "3.8.3"
  }
 },
 "nbformat": 4,
 "nbformat_minor": 1
}

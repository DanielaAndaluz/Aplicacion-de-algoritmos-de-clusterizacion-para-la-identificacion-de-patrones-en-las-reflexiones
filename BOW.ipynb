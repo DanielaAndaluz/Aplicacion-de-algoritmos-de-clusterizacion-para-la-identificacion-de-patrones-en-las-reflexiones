{
 "cells": [
  {
   "cell_type": "code",
   "execution_count": 1,
   "metadata": {},
   "outputs": [
    {
     "name": "stderr",
     "output_type": "stream",
     "text": [
      "C:\\Users\\80214178\\Anaconda3\\lib\\site-packages\\sklearn\\utils\\deprecation.py:144: FutureWarning: The sklearn.metrics.classification module is  deprecated in version 0.22 and will be removed in version 0.24. The corresponding classes / functions should instead be imported from sklearn.metrics. Anything that cannot be imported from sklearn.metrics is now part of the private API.\n",
      "  warnings.warn(message, FutureWarning)\n"
     ]
    }
   ],
   "source": [
    "import os\n",
    "import docx2txt\n",
    "import pandas as pd\n",
    "import glob\n",
    "import numpy as np\n",
    "from funciones import cleandata, pattern_extractor\n",
    "from sklearn.cluster import KMeans\n",
    "from nltk.tokenize import word_tokenize\n",
    "from nltk.stem import SnowballStemmer\n",
    "from sklearn.feature_extraction.text import CountVectorizer\n",
    "from sklearn.metrics import silhouette_score\n",
    "from yellowbrick.cluster import KElbowVisualizer\n",
    "from wordcloud import WordCloud"
   ]
  },
  {
   "cell_type": "code",
   "execution_count": 2,
   "metadata": {},
   "outputs": [],
   "source": [
    "#Definimos directorio\n",
    "os.chdir('C:\\\\Users\\\\80214178\\\\Documents\\\\Tesis\\\\Plantillas')"
   ]
  },
  {
   "cell_type": "code",
   "execution_count": 3,
   "metadata": {},
   "outputs": [],
   "source": [
    "#Leemos lista de stopwords\n",
    "stopwordlist=list(pd.read_csv('list.txt', sep=\",\", header=None,encoding='latin-1')[0])\n"
   ]
  },
  {
   "cell_type": "code",
   "execution_count": 4,
   "metadata": {},
   "outputs": [],
   "source": [
    "#Leemos archivos word y excel\n",
    "DATA_word=[]\n",
    "for file in glob.glob('*.docx'):\n",
    "    extracto = cleandata(pattern_extractor(docx2txt.process(file))).lower()\n",
    "    DATA_word.append(extracto)\n",
    "\n",
    "DATA_csv=[]\n",
    "for y in glob.glob('*.csv'):\n",
    "    datos =cleandata(pd.read_csv(y).iloc[5,0]).lower()\n",
    "    DATA_csv.append(datos)"
   ]
  },
  {
   "cell_type": "code",
   "execution_count": 5,
   "metadata": {},
   "outputs": [],
   "source": [
    "#Juntamos\n",
    "DATA=DATA_word+DATA_csv"
   ]
  },
  {
   "cell_type": "code",
   "execution_count": 6,
   "metadata": {},
   "outputs": [],
   "source": [
    "#Tokenizamos\n",
    "DATA_TOK=[]\n",
    "for x in DATA:\n",
    "    token=word_tokenize(x,\"spanish\")\n",
    "    DATA_TOK.append(token)"
   ]
  },
  {
   "cell_type": "code",
   "execution_count": 7,
   "metadata": {},
   "outputs": [],
   "source": [
    "#Quitamos stopwords\n",
    "DATA_TOK_STOP=[]\n",
    "for y in DATA_TOK:\n",
    "    stop = [word for word in y if not word in stopwordlist]\n",
    "    DATA_TOK_STOP.append(stop)\n"
   ]
  },
  {
   "cell_type": "code",
   "execution_count": 8,
   "metadata": {},
   "outputs": [],
   "source": [
    "stemmer = SnowballStemmer('spanish')\n",
    "DATA_TOK_STOP_STEM=[]\n",
    "for x in DATA_TOK_STOP:\n",
    "    stemmed_spanish = [stemmer.stem(item) for item in x]\n",
    "    DATA_TOK_STOP_STEM.append(stemmed_spanish)\n"
   ]
  },
  {
   "cell_type": "code",
   "execution_count": 9,
   "metadata": {},
   "outputs": [],
   "source": [
    "#Bag of Words Method\n",
    "def dummy(doc):\n",
    "    return doc\n",
    "\n",
    "tfidf = CountVectorizer(tokenizer=dummy,preprocessor=dummy) \n",
    "X=tfidf.fit_transform(DATA_TOK_STOP_STEM).toarray()"
   ]
  },
  {
   "cell_type": "code",
   "execution_count": 10,
   "metadata": {},
   "outputs": [],
   "source": [
    "os.chdir('C:\\\\Users\\\\80214178\\\\Documents\\\\Tesis')\n",
    "pd.DataFrame(X).to_csv(\"X.csv\")"
   ]
  },
  {
   "cell_type": "code",
   "execution_count": null,
   "metadata": {},
   "outputs": [],
   "source": []
  }
 ],
 "metadata": {
  "kernelspec": {
   "display_name": "Python 3",
   "language": "python",
   "name": "python3"
  },
  "language_info": {
   "codemirror_mode": {
    "name": "ipython",
    "version": 3
   },
   "file_extension": ".py",
   "mimetype": "text/x-python",
   "name": "python",
   "nbconvert_exporter": "python",
   "pygments_lexer": "ipython3",
   "version": "3.7.6"
  }
 },
 "nbformat": 4,
 "nbformat_minor": 4
}

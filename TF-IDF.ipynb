{
 "cells": [
  {
   "cell_type": "code",
   "execution_count": 1,
   "metadata": {
    "executionInfo": {
     "elapsed": 1468,
     "status": "ok",
     "timestamp": 1606268773133,
     "user": {
      "displayName": "Daniela Andaluz Ramírez",
      "photoUrl": "https://lh3.googleusercontent.com/a-/AOh14GixEzmkZusiSmnpH0LGw2oiY_ZrTfdxmD-tpLzK8g=s64",
      "userId": "11950908436921581175"
     },
     "user_tz": 360
    },
    "id": "-PBvXaTI8Tpg"
   },
   "outputs": [],
   "source": [
    "import glob\n",
    "import re\n",
    "import os\n",
    "import docx2txt\n",
    "import pandas as pd\n",
    "import numpy as np\n",
    "import glob\n",
    "from nltk.tokenize import word_tokenize\n",
    "from nltk.stem import SnowballStemmer\n",
    "from sklearn.feature_extraction.text import TfidfVectorizer\n",
    "import itertools\n",
    "import collections"
   ]
  },
  {
   "cell_type": "code",
   "execution_count": 2,
   "metadata": {
    "executionInfo": {
     "elapsed": 1462,
     "status": "ok",
     "timestamp": 1606268773136,
     "user": {
      "displayName": "Daniela Andaluz Ramírez",
      "photoUrl": "https://lh3.googleusercontent.com/a-/AOh14GixEzmkZusiSmnpH0LGw2oiY_ZrTfdxmD-tpLzK8g=s64",
      "userId": "11950908436921581175"
     },
     "user_tz": 360
    },
    "id": "Uyrd3fNJ8Tph"
   },
   "outputs": [],
   "source": [
    "#Leemos lista de stopwords\n",
    "stopwordlist=list(pd.read_csv('C:/Users/daniela.andaluz/Documents/list.txt', sep=\",\", header=None,encoding='latin-1')[0])"
   ]
  },
  {
   "cell_type": "code",
   "execution_count": 3,
   "metadata": {},
   "outputs": [],
   "source": [
    "#Definimos directorio\n",
    "os.chdir('C:/Users/daniela.andaluz/Documents/Plantillastesis')"
   ]
  },
  {
   "cell_type": "code",
   "execution_count": 4,
   "metadata": {
    "executionInfo": {
     "elapsed": 2419,
     "status": "ok",
     "timestamp": 1606268774099,
     "user": {
      "displayName": "Daniela Andaluz Ramírez",
      "photoUrl": "https://lh3.googleusercontent.com/a-/AOh14GixEzmkZusiSmnpH0LGw2oiY_ZrTfdxmD-tpLzK8g=s64",
      "userId": "11950908436921581175"
     },
     "user_tz": 360
    },
    "id": "wwxEOVhE8Tph"
   },
   "outputs": [],
   "source": [
    "DATA=[]\n",
    "for y in glob.glob('*.txt'):\n",
    "    datos =re.sub('[’:°;º,—.\"”“·/!?¿@–#$()%¡=&-><]', ' ', re.sub(r'[0-9]+', ' ',re.sub('\\n', ' ',' '.join(pd.read_csv(y, delimiter = \"\\t\", header=None)[0]).lower())))\n",
    "    DATA.append(datos)\n"
   ]
  },
  {
   "cell_type": "code",
   "execution_count": 5,
   "metadata": {
    "executionInfo": {
     "elapsed": 2414,
     "status": "ok",
     "timestamp": 1606268774101,
     "user": {
      "displayName": "Daniela Andaluz Ramírez",
      "photoUrl": "https://lh3.googleusercontent.com/a-/AOh14GixEzmkZusiSmnpH0LGw2oiY_ZrTfdxmD-tpLzK8g=s64",
      "userId": "11950908436921581175"
     },
     "user_tz": 360
    },
    "id": "SAD5aOs58Tph"
   },
   "outputs": [],
   "source": [
    "#Tokenizamos\n",
    "DATA_TOK=[]\n",
    "for x in DATA:\n",
    "    token=word_tokenize(x,\"spanish\")\n",
    "    DATA_TOK.append(token)"
   ]
  },
  {
   "cell_type": "code",
   "execution_count": 6,
   "metadata": {},
   "outputs": [
    {
     "data": {
      "text/plain": [
       "4483"
      ]
     },
     "execution_count": 6,
     "metadata": {},
     "output_type": "execute_result"
    }
   ],
   "source": [
    "merged = list(itertools.chain(*DATA_TOK))\n",
    "counter=collections.Counter(merged)\n",
    "len(counter.keys())"
   ]
  },
  {
   "cell_type": "code",
   "execution_count": 7,
   "metadata": {
    "executionInfo": {
     "elapsed": 2403,
     "status": "ok",
     "timestamp": 1606268774102,
     "user": {
      "displayName": "Daniela Andaluz Ramírez",
      "photoUrl": "https://lh3.googleusercontent.com/a-/AOh14GixEzmkZusiSmnpH0LGw2oiY_ZrTfdxmD-tpLzK8g=s64",
      "userId": "11950908436921581175"
     },
     "user_tz": 360
    },
    "id": "rWgNdIxw8Tph"
   },
   "outputs": [],
   "source": [
    "#Quitamos stopwords\n",
    "DATA_TOK_STOP=[]\n",
    "for y in DATA_TOK:\n",
    "    stop = [word for word in y if not word in stopwordlist]\n",
    "    DATA_TOK_STOP.append(stop)\n"
   ]
  },
  {
   "cell_type": "code",
   "execution_count": 8,
   "metadata": {},
   "outputs": [
    {
     "data": {
      "text/plain": [
       "4303"
      ]
     },
     "execution_count": 8,
     "metadata": {},
     "output_type": "execute_result"
    }
   ],
   "source": [
    "merged = list(itertools.chain(*DATA_TOK_STOP))\n",
    "counter=collections.Counter(merged)\n",
    "len(counter.keys())"
   ]
  },
  {
   "cell_type": "code",
   "execution_count": 9,
   "metadata": {
    "executionInfo": {
     "elapsed": 2397,
     "status": "ok",
     "timestamp": 1606268774103,
     "user": {
      "displayName": "Daniela Andaluz Ramírez",
      "photoUrl": "https://lh3.googleusercontent.com/a-/AOh14GixEzmkZusiSmnpH0LGw2oiY_ZrTfdxmD-tpLzK8g=s64",
      "userId": "11950908436921581175"
     },
     "user_tz": 360
    },
    "id": "pvLA1OOC8Tpi"
   },
   "outputs": [],
   "source": [
    "#Derivamos\n",
    "stemmer = SnowballStemmer('spanish')\n",
    "DATA_TOK_STOP_STEM=[]\n",
    "for x in DATA_TOK_STOP:\n",
    "    stemmed_spanish = [stemmer.stem(item) for item in x]\n",
    "    DATA_TOK_STOP_STEM.append(stemmed_spanish)"
   ]
  },
  {
   "cell_type": "code",
   "execution_count": 10,
   "metadata": {},
   "outputs": [],
   "source": [
    "merged = list(itertools.chain(*DATA_TOK_STOP_STEM))\n",
    "counter=collections.Counter(merged)\n",
    "contador=pd.DataFrame({'values':counter.values(), 'keys':counter.keys()})"
   ]
  },
  {
   "cell_type": "code",
   "execution_count": 11,
   "metadata": {},
   "outputs": [
    {
     "data": {
      "text/plain": [
       "(2327, 2)"
      ]
     },
     "execution_count": 11,
     "metadata": {},
     "output_type": "execute_result"
    }
   ],
   "source": [
    "contador.shape"
   ]
  },
  {
   "cell_type": "code",
   "execution_count": 12,
   "metadata": {},
   "outputs": [],
   "source": [
    "stopwordlistnew=list(contador[contador['values']==1]['keys'])"
   ]
  },
  {
   "cell_type": "code",
   "execution_count": 13,
   "metadata": {},
   "outputs": [],
   "source": [
    "#Quitamos stopwords\n",
    "DATA_TOK_STOP_N=[]\n",
    "for y in DATA_TOK_STOP_STEM:\n",
    "    stop = [word for word in y if not word in stopwordlistnew]\n",
    "    DATA_TOK_STOP_N.append(stop)"
   ]
  },
  {
   "cell_type": "code",
   "execution_count": 14,
   "metadata": {},
   "outputs": [
    {
     "data": {
      "text/plain": [
       "1437"
      ]
     },
     "execution_count": 14,
     "metadata": {},
     "output_type": "execute_result"
    }
   ],
   "source": [
    "merged = list(itertools.chain(*DATA_TOK_STOP_N))\n",
    "counter=collections.Counter(merged)\n",
    "len(counter.keys())"
   ]
  },
  {
   "cell_type": "code",
   "execution_count": 15,
   "metadata": {
    "executionInfo": {
     "elapsed": 2391,
     "status": "ok",
     "timestamp": 1606268774104,
     "user": {
      "displayName": "Daniela Andaluz Ramírez",
      "photoUrl": "https://lh3.googleusercontent.com/a-/AOh14GixEzmkZusiSmnpH0LGw2oiY_ZrTfdxmD-tpLzK8g=s64",
      "userId": "11950908436921581175"
     },
     "user_tz": 360
    },
    "id": "g3FQaFqk8Tpi"
   },
   "outputs": [],
   "source": [
    "\n",
    "#Bag of Words Method\n",
    "def dummy(doc):\n",
    "    return doc\n",
    "\n",
    "tfidf = TfidfVectorizer(tokenizer=dummy,preprocessor=dummy) \n",
    "X=tfidf.fit_transform(DATA_TOK_STOP_N).toarray()"
   ]
  },
  {
   "cell_type": "code",
   "execution_count": 16,
   "metadata": {
    "executionInfo": {
     "elapsed": 2747,
     "status": "ok",
     "timestamp": 1606268774465,
     "user": {
      "displayName": "Daniela Andaluz Ramírez",
      "photoUrl": "https://lh3.googleusercontent.com/a-/AOh14GixEzmkZusiSmnpH0LGw2oiY_ZrTfdxmD-tpLzK8g=s64",
      "userId": "11950908436921581175"
     },
     "user_tz": 360
    },
    "id": "-BR5pakH8Tpi"
   },
   "outputs": [],
   "source": [
    "X=pd.DataFrame (X, columns = tfidf.get_feature_names())"
   ]
  },
  {
   "cell_type": "code",
   "execution_count": 17,
   "metadata": {
    "colab": {
     "base_uri": "https://localhost:8080/"
    },
    "executionInfo": {
     "elapsed": 2742,
     "status": "ok",
     "timestamp": 1606268774466,
     "user": {
      "displayName": "Daniela Andaluz Ramírez",
      "photoUrl": "https://lh3.googleusercontent.com/a-/AOh14GixEzmkZusiSmnpH0LGw2oiY_ZrTfdxmD-tpLzK8g=s64",
      "userId": "11950908436921581175"
     },
     "user_tz": 360
    },
    "id": "17nQyQ5I8Tpi",
    "outputId": "abfc56cd-efa2-474f-8111-6da5b1a4dfb2"
   },
   "outputs": [
    {
     "data": {
      "text/plain": [
       "(105, 1437)"
      ]
     },
     "execution_count": 17,
     "metadata": {},
     "output_type": "execute_result"
    }
   ],
   "source": [
    "X.shape"
   ]
  },
  {
   "cell_type": "code",
   "execution_count": 18,
   "metadata": {
    "executionInfo": {
     "elapsed": 2737,
     "status": "ok",
     "timestamp": 1606268774468,
     "user": {
      "displayName": "Daniela Andaluz Ramírez",
      "photoUrl": "https://lh3.googleusercontent.com/a-/AOh14GixEzmkZusiSmnpH0LGw2oiY_ZrTfdxmD-tpLzK8g=s64",
      "userId": "11950908436921581175"
     },
     "user_tz": 360
    },
    "id": "SdVTztXO8Tpk"
   },
   "outputs": [],
   "source": [
    "os.chdir('C:/Users/daniela.andaluz/Downloads')\n",
    "X.to_csv(\"X_tfidf.csv\",index=False)"
   ]
  },
  {
   "cell_type": "code",
   "execution_count": 21,
   "metadata": {
    "executionInfo": {
     "elapsed": 2734,
     "status": "ok",
     "timestamp": 1606268774470,
     "user": {
      "displayName": "Daniela Andaluz Ramírez",
      "photoUrl": "https://lh3.googleusercontent.com/a-/AOh14GixEzmkZusiSmnpH0LGw2oiY_ZrTfdxmD-tpLzK8g=s64",
      "userId": "11950908436921581175"
     },
     "user_tz": 360
    },
    "id": "rjbq1yoa8Tpk"
   },
   "outputs": [
    {
     "name": "stderr",
     "output_type": "stream",
     "text": [
      "C:\\Users\\daniela.andaluz\\Anaconda3\\lib\\site-packages\\numpy\\core\\_asarray.py:136: VisibleDeprecationWarning: Creating an ndarray from ragged nested sequences (which is a list-or-tuple of lists-or-tuples-or ndarrays with different lengths or shapes) is deprecated. If you meant to do this, you must specify 'dtype=object' when creating the ndarray\n",
      "  return array(a, dtype, copy=False, order=order, subok=True)\n"
     ]
    }
   ],
   "source": [
    "np.save(\"C:/Users/daniela.andaluz/Downloads/tesis/DATA_TOK_STOP_N.npy\",DATA_TOK_STOP_STEM)\n",
    "np.save(\"C:/Users/daniela.andaluz/Downloads/tesis/DATA_TOK_STOP.npy\",DATA_TOK_STOP)\n"
   ]
  },
  {
   "cell_type": "code",
   "execution_count": 22,
   "metadata": {
    "executionInfo": {
     "elapsed": 2733,
     "status": "ok",
     "timestamp": 1606268774471,
     "user": {
      "displayName": "Daniela Andaluz Ramírez",
      "photoUrl": "https://lh3.googleusercontent.com/a-/AOh14GixEzmkZusiSmnpH0LGw2oiY_ZrTfdxmD-tpLzK8g=s64",
      "userId": "11950908436921581175"
     },
     "user_tz": 360
    },
    "id": "4fB-bIBDE3Lv"
   },
   "outputs": [
    {
     "data": {
      "text/html": [
       "<div>\n",
       "<style scoped>\n",
       "    .dataframe tbody tr th:only-of-type {\n",
       "        vertical-align: middle;\n",
       "    }\n",
       "\n",
       "    .dataframe tbody tr th {\n",
       "        vertical-align: top;\n",
       "    }\n",
       "\n",
       "    .dataframe thead th {\n",
       "        text-align: right;\n",
       "    }\n",
       "</style>\n",
       "<table border=\"1\" class=\"dataframe\">\n",
       "  <thead>\n",
       "    <tr style=\"text-align: right;\">\n",
       "      <th></th>\n",
       "      <th>abarc</th>\n",
       "      <th>abiert</th>\n",
       "      <th>abord</th>\n",
       "      <th>abp</th>\n",
       "      <th>absolut</th>\n",
       "      <th>abstraccion</th>\n",
       "      <th>abstract</th>\n",
       "      <th>academ</th>\n",
       "      <th>academi</th>\n",
       "      <th>acced</th>\n",
       "      <th>...</th>\n",
       "      <th>visual</th>\n",
       "      <th>visualiz</th>\n",
       "      <th>vital</th>\n",
       "      <th>viv</th>\n",
       "      <th>vivencial</th>\n",
       "      <th>vocabulari</th>\n",
       "      <th>volv</th>\n",
       "      <th>vuelv</th>\n",
       "      <th>web</th>\n",
       "      <th>zoom</th>\n",
       "    </tr>\n",
       "  </thead>\n",
       "  <tbody>\n",
       "    <tr>\n",
       "      <th>0</th>\n",
       "      <td>0.0</td>\n",
       "      <td>0.0</td>\n",
       "      <td>0.025112</td>\n",
       "      <td>0.0</td>\n",
       "      <td>0.0</td>\n",
       "      <td>0.0</td>\n",
       "      <td>0.0</td>\n",
       "      <td>0.049356</td>\n",
       "      <td>0.0</td>\n",
       "      <td>0.000000</td>\n",
       "      <td>...</td>\n",
       "      <td>0.027629</td>\n",
       "      <td>0.000000</td>\n",
       "      <td>0.0</td>\n",
       "      <td>0.0</td>\n",
       "      <td>0.0</td>\n",
       "      <td>0.000000</td>\n",
       "      <td>0.0</td>\n",
       "      <td>0.0</td>\n",
       "      <td>0.097041</td>\n",
       "      <td>0.0</td>\n",
       "    </tr>\n",
       "    <tr>\n",
       "      <th>1</th>\n",
       "      <td>0.0</td>\n",
       "      <td>0.0</td>\n",
       "      <td>0.048973</td>\n",
       "      <td>0.0</td>\n",
       "      <td>0.0</td>\n",
       "      <td>0.0</td>\n",
       "      <td>0.0</td>\n",
       "      <td>0.000000</td>\n",
       "      <td>0.0</td>\n",
       "      <td>0.040714</td>\n",
       "      <td>...</td>\n",
       "      <td>0.000000</td>\n",
       "      <td>0.000000</td>\n",
       "      <td>0.0</td>\n",
       "      <td>0.0</td>\n",
       "      <td>0.0</td>\n",
       "      <td>0.000000</td>\n",
       "      <td>0.0</td>\n",
       "      <td>0.0</td>\n",
       "      <td>0.000000</td>\n",
       "      <td>0.0</td>\n",
       "    </tr>\n",
       "    <tr>\n",
       "      <th>2</th>\n",
       "      <td>0.0</td>\n",
       "      <td>0.0</td>\n",
       "      <td>0.000000</td>\n",
       "      <td>0.0</td>\n",
       "      <td>0.0</td>\n",
       "      <td>0.0</td>\n",
       "      <td>0.0</td>\n",
       "      <td>0.000000</td>\n",
       "      <td>0.0</td>\n",
       "      <td>0.000000</td>\n",
       "      <td>...</td>\n",
       "      <td>0.000000</td>\n",
       "      <td>0.000000</td>\n",
       "      <td>0.0</td>\n",
       "      <td>0.0</td>\n",
       "      <td>0.0</td>\n",
       "      <td>0.027165</td>\n",
       "      <td>0.0</td>\n",
       "      <td>0.0</td>\n",
       "      <td>0.000000</td>\n",
       "      <td>0.0</td>\n",
       "    </tr>\n",
       "    <tr>\n",
       "      <th>3</th>\n",
       "      <td>0.0</td>\n",
       "      <td>0.0</td>\n",
       "      <td>0.000000</td>\n",
       "      <td>0.0</td>\n",
       "      <td>0.0</td>\n",
       "      <td>0.0</td>\n",
       "      <td>0.0</td>\n",
       "      <td>0.000000</td>\n",
       "      <td>0.0</td>\n",
       "      <td>0.000000</td>\n",
       "      <td>...</td>\n",
       "      <td>0.000000</td>\n",
       "      <td>0.000000</td>\n",
       "      <td>0.0</td>\n",
       "      <td>0.0</td>\n",
       "      <td>0.0</td>\n",
       "      <td>0.000000</td>\n",
       "      <td>0.0</td>\n",
       "      <td>0.0</td>\n",
       "      <td>0.000000</td>\n",
       "      <td>0.0</td>\n",
       "    </tr>\n",
       "    <tr>\n",
       "      <th>4</th>\n",
       "      <td>0.0</td>\n",
       "      <td>0.0</td>\n",
       "      <td>0.000000</td>\n",
       "      <td>0.0</td>\n",
       "      <td>0.0</td>\n",
       "      <td>0.0</td>\n",
       "      <td>0.0</td>\n",
       "      <td>0.000000</td>\n",
       "      <td>0.0</td>\n",
       "      <td>0.000000</td>\n",
       "      <td>...</td>\n",
       "      <td>0.000000</td>\n",
       "      <td>0.240531</td>\n",
       "      <td>0.0</td>\n",
       "      <td>0.0</td>\n",
       "      <td>0.0</td>\n",
       "      <td>0.000000</td>\n",
       "      <td>0.0</td>\n",
       "      <td>0.0</td>\n",
       "      <td>0.000000</td>\n",
       "      <td>0.0</td>\n",
       "    </tr>\n",
       "    <tr>\n",
       "      <th>...</th>\n",
       "      <td>...</td>\n",
       "      <td>...</td>\n",
       "      <td>...</td>\n",
       "      <td>...</td>\n",
       "      <td>...</td>\n",
       "      <td>...</td>\n",
       "      <td>...</td>\n",
       "      <td>...</td>\n",
       "      <td>...</td>\n",
       "      <td>...</td>\n",
       "      <td>...</td>\n",
       "      <td>...</td>\n",
       "      <td>...</td>\n",
       "      <td>...</td>\n",
       "      <td>...</td>\n",
       "      <td>...</td>\n",
       "      <td>...</td>\n",
       "      <td>...</td>\n",
       "      <td>...</td>\n",
       "      <td>...</td>\n",
       "      <td>...</td>\n",
       "    </tr>\n",
       "    <tr>\n",
       "      <th>100</th>\n",
       "      <td>0.0</td>\n",
       "      <td>0.0</td>\n",
       "      <td>0.107649</td>\n",
       "      <td>0.0</td>\n",
       "      <td>0.0</td>\n",
       "      <td>0.0</td>\n",
       "      <td>0.0</td>\n",
       "      <td>0.000000</td>\n",
       "      <td>0.0</td>\n",
       "      <td>0.357978</td>\n",
       "      <td>...</td>\n",
       "      <td>0.000000</td>\n",
       "      <td>0.000000</td>\n",
       "      <td>0.0</td>\n",
       "      <td>0.0</td>\n",
       "      <td>0.0</td>\n",
       "      <td>0.000000</td>\n",
       "      <td>0.0</td>\n",
       "      <td>0.0</td>\n",
       "      <td>0.000000</td>\n",
       "      <td>0.0</td>\n",
       "    </tr>\n",
       "    <tr>\n",
       "      <th>101</th>\n",
       "      <td>0.0</td>\n",
       "      <td>0.0</td>\n",
       "      <td>0.000000</td>\n",
       "      <td>0.0</td>\n",
       "      <td>0.0</td>\n",
       "      <td>0.0</td>\n",
       "      <td>0.0</td>\n",
       "      <td>0.000000</td>\n",
       "      <td>0.0</td>\n",
       "      <td>0.000000</td>\n",
       "      <td>...</td>\n",
       "      <td>0.000000</td>\n",
       "      <td>0.000000</td>\n",
       "      <td>0.0</td>\n",
       "      <td>0.0</td>\n",
       "      <td>0.0</td>\n",
       "      <td>0.000000</td>\n",
       "      <td>0.0</td>\n",
       "      <td>0.0</td>\n",
       "      <td>0.000000</td>\n",
       "      <td>0.0</td>\n",
       "    </tr>\n",
       "    <tr>\n",
       "      <th>102</th>\n",
       "      <td>0.0</td>\n",
       "      <td>0.0</td>\n",
       "      <td>0.000000</td>\n",
       "      <td>0.0</td>\n",
       "      <td>0.0</td>\n",
       "      <td>0.0</td>\n",
       "      <td>0.0</td>\n",
       "      <td>0.000000</td>\n",
       "      <td>0.0</td>\n",
       "      <td>0.000000</td>\n",
       "      <td>...</td>\n",
       "      <td>0.000000</td>\n",
       "      <td>0.000000</td>\n",
       "      <td>0.0</td>\n",
       "      <td>0.0</td>\n",
       "      <td>0.0</td>\n",
       "      <td>0.000000</td>\n",
       "      <td>0.0</td>\n",
       "      <td>0.0</td>\n",
       "      <td>0.000000</td>\n",
       "      <td>0.0</td>\n",
       "    </tr>\n",
       "    <tr>\n",
       "      <th>103</th>\n",
       "      <td>0.0</td>\n",
       "      <td>0.0</td>\n",
       "      <td>0.000000</td>\n",
       "      <td>0.0</td>\n",
       "      <td>0.0</td>\n",
       "      <td>0.0</td>\n",
       "      <td>0.0</td>\n",
       "      <td>0.105211</td>\n",
       "      <td>0.0</td>\n",
       "      <td>0.000000</td>\n",
       "      <td>...</td>\n",
       "      <td>0.000000</td>\n",
       "      <td>0.000000</td>\n",
       "      <td>0.0</td>\n",
       "      <td>0.0</td>\n",
       "      <td>0.0</td>\n",
       "      <td>0.000000</td>\n",
       "      <td>0.0</td>\n",
       "      <td>0.0</td>\n",
       "      <td>0.000000</td>\n",
       "      <td>0.0</td>\n",
       "    </tr>\n",
       "    <tr>\n",
       "      <th>104</th>\n",
       "      <td>0.0</td>\n",
       "      <td>0.0</td>\n",
       "      <td>0.109358</td>\n",
       "      <td>0.0</td>\n",
       "      <td>0.0</td>\n",
       "      <td>0.0</td>\n",
       "      <td>0.0</td>\n",
       "      <td>0.053734</td>\n",
       "      <td>0.0</td>\n",
       "      <td>0.000000</td>\n",
       "      <td>...</td>\n",
       "      <td>0.000000</td>\n",
       "      <td>0.000000</td>\n",
       "      <td>0.0</td>\n",
       "      <td>0.0</td>\n",
       "      <td>0.0</td>\n",
       "      <td>0.000000</td>\n",
       "      <td>0.0</td>\n",
       "      <td>0.0</td>\n",
       "      <td>0.000000</td>\n",
       "      <td>0.0</td>\n",
       "    </tr>\n",
       "  </tbody>\n",
       "</table>\n",
       "<p>105 rows × 1437 columns</p>\n",
       "</div>"
      ],
      "text/plain": [
       "     abarc  abiert     abord  abp  absolut  abstraccion  abstract    academ  \\\n",
       "0      0.0     0.0  0.025112  0.0      0.0          0.0       0.0  0.049356   \n",
       "1      0.0     0.0  0.048973  0.0      0.0          0.0       0.0  0.000000   \n",
       "2      0.0     0.0  0.000000  0.0      0.0          0.0       0.0  0.000000   \n",
       "3      0.0     0.0  0.000000  0.0      0.0          0.0       0.0  0.000000   \n",
       "4      0.0     0.0  0.000000  0.0      0.0          0.0       0.0  0.000000   \n",
       "..     ...     ...       ...  ...      ...          ...       ...       ...   \n",
       "100    0.0     0.0  0.107649  0.0      0.0          0.0       0.0  0.000000   \n",
       "101    0.0     0.0  0.000000  0.0      0.0          0.0       0.0  0.000000   \n",
       "102    0.0     0.0  0.000000  0.0      0.0          0.0       0.0  0.000000   \n",
       "103    0.0     0.0  0.000000  0.0      0.0          0.0       0.0  0.105211   \n",
       "104    0.0     0.0  0.109358  0.0      0.0          0.0       0.0  0.053734   \n",
       "\n",
       "     academi     acced  ...    visual  visualiz  vital  viv  vivencial  \\\n",
       "0        0.0  0.000000  ...  0.027629  0.000000    0.0  0.0        0.0   \n",
       "1        0.0  0.040714  ...  0.000000  0.000000    0.0  0.0        0.0   \n",
       "2        0.0  0.000000  ...  0.000000  0.000000    0.0  0.0        0.0   \n",
       "3        0.0  0.000000  ...  0.000000  0.000000    0.0  0.0        0.0   \n",
       "4        0.0  0.000000  ...  0.000000  0.240531    0.0  0.0        0.0   \n",
       "..       ...       ...  ...       ...       ...    ...  ...        ...   \n",
       "100      0.0  0.357978  ...  0.000000  0.000000    0.0  0.0        0.0   \n",
       "101      0.0  0.000000  ...  0.000000  0.000000    0.0  0.0        0.0   \n",
       "102      0.0  0.000000  ...  0.000000  0.000000    0.0  0.0        0.0   \n",
       "103      0.0  0.000000  ...  0.000000  0.000000    0.0  0.0        0.0   \n",
       "104      0.0  0.000000  ...  0.000000  0.000000    0.0  0.0        0.0   \n",
       "\n",
       "     vocabulari  volv  vuelv       web  zoom  \n",
       "0      0.000000   0.0    0.0  0.097041   0.0  \n",
       "1      0.000000   0.0    0.0  0.000000   0.0  \n",
       "2      0.027165   0.0    0.0  0.000000   0.0  \n",
       "3      0.000000   0.0    0.0  0.000000   0.0  \n",
       "4      0.000000   0.0    0.0  0.000000   0.0  \n",
       "..          ...   ...    ...       ...   ...  \n",
       "100    0.000000   0.0    0.0  0.000000   0.0  \n",
       "101    0.000000   0.0    0.0  0.000000   0.0  \n",
       "102    0.000000   0.0    0.0  0.000000   0.0  \n",
       "103    0.000000   0.0    0.0  0.000000   0.0  \n",
       "104    0.000000   0.0    0.0  0.000000   0.0  \n",
       "\n",
       "[105 rows x 1437 columns]"
      ]
     },
     "execution_count": 22,
     "metadata": {},
     "output_type": "execute_result"
    }
   ],
   "source": [
    "X"
   ]
  }
 ],
 "metadata": {
  "colab": {
   "name": "TF-IDF.ipynb",
   "provenance": []
  },
  "kernelspec": {
   "display_name": "Python 3",
   "language": "python",
   "name": "python3"
  },
  "language_info": {
   "codemirror_mode": {
    "name": "ipython",
    "version": 3
   },
   "file_extension": ".py",
   "mimetype": "text/x-python",
   "name": "python",
   "nbconvert_exporter": "python",
   "pygments_lexer": "ipython3",
   "version": "3.8.5"
  }
 },
 "nbformat": 4,
 "nbformat_minor": 1
}
